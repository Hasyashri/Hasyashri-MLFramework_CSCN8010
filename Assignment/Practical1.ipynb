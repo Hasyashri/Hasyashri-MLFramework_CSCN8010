{
 "cells": [
  {
   "cell_type": "markdown",
   "id": "d6f1e1d8",
   "metadata": {},
   "source": [
    "> # <b>Practical Lab 1 - Univariate Linear Regression <b>\n",
    "\n",
    "#### **Prediction for California Housing Prices Dataset Using Linear regression**\n",
    "\n",
    "> **Student Name**: Hasyashri Bhatt\n",
    "\n",
    ">**Student ID**: 9028501\n",
    "\n",
    ">**Course**: Foundations of Machine Learning Frameworks(CSCN8010) \n",
    "\n",
    ">**GitHub Repository**: https://github.com/Hasyashri/MLFramework_CSCN8010/tree/main/Assignment\n",
    "\n"
   ]
  },
  {
   "cell_type": "markdown",
   "id": "2cf05aba",
   "metadata": {},
   "source": [
    "> ## Introduction\n",
    "\n",
    "In this Lab I will train first Machine Learning Model. There are multiple algorithms to train the model but here I will apply the `univariate linear regression`, which is a simple yet powerful algorithm that models the `relationship` between one `**independent variable**` and a `**dependent variable**` using a `linear equation: Y = mX + c`. <span style=\"font-size:10px\">Refered from :https://github.com/CSCN8010/CSCN8010/tree/main/class_notebooks/linear_regression</span>\n",
    "\n",
    "I will explore how the median house value varies with three different factors. The independent variables considered in this study are:\n",
    "| Model | Independent Variable   | Description                  |\n",
    "|-------|------------------------|------------------------------|\n",
    "| 1     | Median Income          | Average income in the Dataset   |\n",
    "| 2     | Population             | Total population  |\n",
    "| 3     | Number of Households   | Count of households in the Dataset|\n"
   ]
  },
  {
   "cell_type": "markdown",
   "id": "dca670fe",
   "metadata": {},
   "source": [
    "> # Step 1 : Framing the Problem\n",
    "**Objective**\n",
    "The objective of this lab is to develop and compare three univariate linear regression models to predict median house value. Each model uses a different independent variable: median income, population, and number of households. \n",
    "\n",
    "**Goal**\n",
    "Through this analysis, I aim to identify which variable is the strongest predictor of housing prices and gain insights about it.I will train three separate models, each using a different feature as below:\n",
    "\n",
    "1. Mean Squared Error (MSE)\n",
    "2. Mean Absolute Error (MAE)\n",
    "3. R² Score"
   ]
  },
  {
   "cell_type": "markdown",
   "id": "b5468bfa",
   "metadata": {},
   "source": [
    "> # Step 2 : Getting the Data\n",
    "\n",
    "I have downloaded dataset from the below link and loaded in the Pandas.\n",
    "**California Housing Prices Dataset Link**:https://www.kaggle.com/datasets/camnugent/california-housing-prices "
   ]
  },
  {
   "cell_type": "code",
   "execution_count": 44,
   "id": "afed7408",
   "metadata": {},
   "outputs": [],
   "source": [
    "# Importing necessary libraries\n",
    "import pandas as pd             # loading and manipulating data\n",
    "import numpy as np              # numerical operations\n",
    "import matplotlib.pyplot as plt # plotting\n",
    "import seaborn as sns           # data visualization\n"
   ]
  },
  {
   "cell_type": "markdown",
   "id": "86fc32e7",
   "metadata": {},
   "source": [
    "**Load the dataset into the Panda Dataframe here I will initialize Dataframe as a df.**"
   ]
  },
  {
   "cell_type": "code",
   "execution_count": 45,
   "id": "c996341f",
   "metadata": {},
   "outputs": [
    {
     "name": "stdout",
     "output_type": "stream",
     "text": [
      "Data loaded successfully.\n"
     ]
    }
   ],
   "source": [
    "# Load the dataset from a CSV file to a pandas DataFrame\n",
    "df = pd.read_csv(r'C:\\Users\\habha\\OneDrive\\Desktop\\Assignment Linear\\Hasyashri-MLFramework_CSCN8010\\Assignment\\housing.csv')\n",
    "# If it's loaded correctly, print successfully loaded message\n",
    "if df is not None:\n",
    "    print(\"Data loaded successfully.\")"
   ]
  },
  {
   "cell_type": "code",
   "execution_count": 46,
   "id": "b1f5cf38",
   "metadata": {},
   "outputs": [
    {
     "data": {
      "application/vnd.microsoft.datawrangler.viewer.v0+json": {
       "columns": [
        {
         "name": "index",
         "rawType": "int64",
         "type": "integer"
        },
        {
         "name": "longitude",
         "rawType": "float64",
         "type": "float"
        },
        {
         "name": "latitude",
         "rawType": "float64",
         "type": "float"
        },
        {
         "name": "housing_median_age",
         "rawType": "float64",
         "type": "float"
        },
        {
         "name": "total_rooms",
         "rawType": "float64",
         "type": "float"
        },
        {
         "name": "total_bedrooms",
         "rawType": "float64",
         "type": "float"
        },
        {
         "name": "population",
         "rawType": "float64",
         "type": "float"
        },
        {
         "name": "households",
         "rawType": "float64",
         "type": "float"
        },
        {
         "name": "median_income",
         "rawType": "float64",
         "type": "float"
        },
        {
         "name": "median_house_value",
         "rawType": "float64",
         "type": "float"
        },
        {
         "name": "ocean_proximity",
         "rawType": "object",
         "type": "string"
        }
       ],
       "ref": "aa9414c8-10be-4ef5-9556-83da37e3bc5d",
       "rows": [
        [
         "0",
         "-122.23",
         "37.88",
         "41.0",
         "880.0",
         "129.0",
         "322.0",
         "126.0",
         "8.3252",
         "452600.0",
         "NEAR BAY"
        ],
        [
         "1",
         "-122.22",
         "37.86",
         "21.0",
         "7099.0",
         "1106.0",
         "2401.0",
         "1138.0",
         "8.3014",
         "358500.0",
         "NEAR BAY"
        ],
        [
         "2",
         "-122.24",
         "37.85",
         "52.0",
         "1467.0",
         "190.0",
         "496.0",
         "177.0",
         "7.2574",
         "352100.0",
         "NEAR BAY"
        ],
        [
         "3",
         "-122.25",
         "37.85",
         "52.0",
         "1274.0",
         "235.0",
         "558.0",
         "219.0",
         "5.6431",
         "341300.0",
         "NEAR BAY"
        ],
        [
         "4",
         "-122.25",
         "37.85",
         "52.0",
         "1627.0",
         "280.0",
         "565.0",
         "259.0",
         "3.8462",
         "342200.0",
         "NEAR BAY"
        ]
       ],
       "shape": {
        "columns": 10,
        "rows": 5
       }
      },
      "text/html": [
       "<div>\n",
       "<style scoped>\n",
       "    .dataframe tbody tr th:only-of-type {\n",
       "        vertical-align: middle;\n",
       "    }\n",
       "\n",
       "    .dataframe tbody tr th {\n",
       "        vertical-align: top;\n",
       "    }\n",
       "\n",
       "    .dataframe thead th {\n",
       "        text-align: right;\n",
       "    }\n",
       "</style>\n",
       "<table border=\"1\" class=\"dataframe\">\n",
       "  <thead>\n",
       "    <tr style=\"text-align: right;\">\n",
       "      <th></th>\n",
       "      <th>longitude</th>\n",
       "      <th>latitude</th>\n",
       "      <th>housing_median_age</th>\n",
       "      <th>total_rooms</th>\n",
       "      <th>total_bedrooms</th>\n",
       "      <th>population</th>\n",
       "      <th>households</th>\n",
       "      <th>median_income</th>\n",
       "      <th>median_house_value</th>\n",
       "      <th>ocean_proximity</th>\n",
       "    </tr>\n",
       "  </thead>\n",
       "  <tbody>\n",
       "    <tr>\n",
       "      <th>0</th>\n",
       "      <td>-122.23</td>\n",
       "      <td>37.88</td>\n",
       "      <td>41.0</td>\n",
       "      <td>880.0</td>\n",
       "      <td>129.0</td>\n",
       "      <td>322.0</td>\n",
       "      <td>126.0</td>\n",
       "      <td>8.3252</td>\n",
       "      <td>452600.0</td>\n",
       "      <td>NEAR BAY</td>\n",
       "    </tr>\n",
       "    <tr>\n",
       "      <th>1</th>\n",
       "      <td>-122.22</td>\n",
       "      <td>37.86</td>\n",
       "      <td>21.0</td>\n",
       "      <td>7099.0</td>\n",
       "      <td>1106.0</td>\n",
       "      <td>2401.0</td>\n",
       "      <td>1138.0</td>\n",
       "      <td>8.3014</td>\n",
       "      <td>358500.0</td>\n",
       "      <td>NEAR BAY</td>\n",
       "    </tr>\n",
       "    <tr>\n",
       "      <th>2</th>\n",
       "      <td>-122.24</td>\n",
       "      <td>37.85</td>\n",
       "      <td>52.0</td>\n",
       "      <td>1467.0</td>\n",
       "      <td>190.0</td>\n",
       "      <td>496.0</td>\n",
       "      <td>177.0</td>\n",
       "      <td>7.2574</td>\n",
       "      <td>352100.0</td>\n",
       "      <td>NEAR BAY</td>\n",
       "    </tr>\n",
       "    <tr>\n",
       "      <th>3</th>\n",
       "      <td>-122.25</td>\n",
       "      <td>37.85</td>\n",
       "      <td>52.0</td>\n",
       "      <td>1274.0</td>\n",
       "      <td>235.0</td>\n",
       "      <td>558.0</td>\n",
       "      <td>219.0</td>\n",
       "      <td>5.6431</td>\n",
       "      <td>341300.0</td>\n",
       "      <td>NEAR BAY</td>\n",
       "    </tr>\n",
       "    <tr>\n",
       "      <th>4</th>\n",
       "      <td>-122.25</td>\n",
       "      <td>37.85</td>\n",
       "      <td>52.0</td>\n",
       "      <td>1627.0</td>\n",
       "      <td>280.0</td>\n",
       "      <td>565.0</td>\n",
       "      <td>259.0</td>\n",
       "      <td>3.8462</td>\n",
       "      <td>342200.0</td>\n",
       "      <td>NEAR BAY</td>\n",
       "    </tr>\n",
       "  </tbody>\n",
       "</table>\n",
       "</div>"
      ],
      "text/plain": [
       "   longitude  latitude  housing_median_age  total_rooms  total_bedrooms  \\\n",
       "0    -122.23     37.88                41.0        880.0           129.0   \n",
       "1    -122.22     37.86                21.0       7099.0          1106.0   \n",
       "2    -122.24     37.85                52.0       1467.0           190.0   \n",
       "3    -122.25     37.85                52.0       1274.0           235.0   \n",
       "4    -122.25     37.85                52.0       1627.0           280.0   \n",
       "\n",
       "   population  households  median_income  median_house_value ocean_proximity  \n",
       "0       322.0       126.0         8.3252            452600.0        NEAR BAY  \n",
       "1      2401.0      1138.0         8.3014            358500.0        NEAR BAY  \n",
       "2       496.0       177.0         7.2574            352100.0        NEAR BAY  \n",
       "3       558.0       219.0         5.6431            341300.0        NEAR BAY  \n",
       "4       565.0       259.0         3.8462            342200.0        NEAR BAY  "
      ]
     },
     "execution_count": 46,
     "metadata": {},
     "output_type": "execute_result"
    }
   ],
   "source": [
    "# Show the first few rows of the DataFrame\n",
    "df.head()"
   ]
  },
  {
   "cell_type": "code",
   "execution_count": 47,
   "id": "3f9f3da8",
   "metadata": {},
   "outputs": [
    {
     "name": "stdout",
     "output_type": "stream",
     "text": [
      "<class 'pandas.core.frame.DataFrame'>\n",
      "RangeIndex: 20640 entries, 0 to 20639\n",
      "Data columns (total 10 columns):\n",
      " #   Column              Non-Null Count  Dtype  \n",
      "---  ------              --------------  -----  \n",
      " 0   longitude           20640 non-null  float64\n",
      " 1   latitude            20640 non-null  float64\n",
      " 2   housing_median_age  20640 non-null  float64\n",
      " 3   total_rooms         20640 non-null  float64\n",
      " 4   total_bedrooms      20433 non-null  float64\n",
      " 5   population          20640 non-null  float64\n",
      " 6   households          20640 non-null  float64\n",
      " 7   median_income       20640 non-null  float64\n",
      " 8   median_house_value  20640 non-null  float64\n",
      " 9   ocean_proximity     20640 non-null  object \n",
      "dtypes: float64(9), object(1)\n",
      "memory usage: 1.6+ MB\n"
     ]
    }
   ],
   "source": [
    "df.info()  # Display information about the DataFrame, including data types and non-null counts"
   ]
  },
  {
   "cell_type": "markdown",
   "id": "2cc053d4",
   "metadata": {},
   "source": [
    "**Check if there are any missing Values**"
   ]
  },
  {
   "cell_type": "code",
   "execution_count": 52,
   "id": "f3e08c70",
   "metadata": {},
   "outputs": [
    {
     "data": {
      "application/vnd.microsoft.datawrangler.viewer.v0+json": {
       "columns": [
        {
         "name": "index",
         "rawType": "object",
         "type": "string"
        },
        {
         "name": "0",
         "rawType": "int64",
         "type": "integer"
        }
       ],
       "ref": "54861644-94d0-4e59-94f4-e141195461e6",
       "rows": [
        [
         "longitude",
         "0"
        ],
        [
         "latitude",
         "0"
        ],
        [
         "housing_median_age",
         "0"
        ],
        [
         "total_rooms",
         "0"
        ],
        [
         "total_bedrooms",
         "207"
        ],
        [
         "population",
         "0"
        ],
        [
         "households",
         "0"
        ],
        [
         "median_income",
         "0"
        ],
        [
         "median_house_value",
         "0"
        ],
        [
         "ocean_proximity",
         "0"
        ]
       ],
       "shape": {
        "columns": 1,
        "rows": 10
       }
      },
      "text/plain": [
       "longitude               0\n",
       "latitude                0\n",
       "housing_median_age      0\n",
       "total_rooms             0\n",
       "total_bedrooms        207\n",
       "population              0\n",
       "households              0\n",
       "median_income           0\n",
       "median_house_value      0\n",
       "ocean_proximity         0\n",
       "dtype: int64"
      ]
     },
     "execution_count": 52,
     "metadata": {},
     "output_type": "execute_result"
    }
   ],
   "source": [
    "df.isnull().sum()  # Check for missing values in each column"
   ]
  },
  {
   "cell_type": "code",
   "execution_count": 49,
   "id": "67b0fde0",
   "metadata": {},
   "outputs": [
    {
     "data": {
      "text/plain": [
       "(20640, 10)"
      ]
     },
     "execution_count": 49,
     "metadata": {},
     "output_type": "execute_result"
    }
   ],
   "source": [
    "df.shape  # Get the shape of the DataFrame (rows, columns)"
   ]
  },
  {
   "cell_type": "markdown",
   "id": "878eca9f",
   "metadata": {},
   "source": [
    "**After Checking the Dataset I get to know that there are missing values in the total_bedroom column.I need fill this missing values in the Dataset. For that I am using fillna() method.**"
   ]
  },
  {
   "cell_type": "code",
   "execution_count": 54,
   "id": "3bc69b10",
   "metadata": {},
   "outputs": [],
   "source": [
    "# Fill missing values in 'total_bedrooms' column with the median value of that column\n",
    "df['total_bedrooms'] = df['total_bedrooms'].fillna(df['total_bedrooms'].median())\n"
   ]
  },
  {
   "cell_type": "code",
   "execution_count": 56,
   "id": "7b0e48ce",
   "metadata": {},
   "outputs": [
    {
     "name": "stdout",
     "output_type": "stream",
     "text": [
      "Missing values in 'total_bedrooms': 0\n"
     ]
    }
   ],
   "source": [
    "# Verify that there are no more missing values in 'total_bedrooms'\n",
    "print(\"Missing values in 'total_bedrooms':\", df['total_bedrooms'].isnull().sum())"
   ]
  },
  {
   "cell_type": "markdown",
   "id": "18b66b3f",
   "metadata": {},
   "source": [
    "Before there are missing values:`207` present in the `total_bedrooms` column, now after using median of the column I filled the missing values in the `total_bedroom`column using fillna() method which resulted in: `Missing values in 'total_bedrooms': 0`.\n",
    "\n",
    "Now going to check if there are any duplicated rows are present above we checked total rows and columns of the dataset using `.shape` which is (20640, 10)."
   ]
  },
  {
   "cell_type": "code",
   "execution_count": 61,
   "id": "ea8ffb32",
   "metadata": {},
   "outputs": [
    {
     "data": {
      "text/plain": [
       "0"
      ]
     },
     "execution_count": 61,
     "metadata": {},
     "output_type": "execute_result"
    }
   ],
   "source": [
    "# check for duplicates in the DataFrame\n",
    "df.duplicated().sum()  # Count the number of duplicate rows"
   ]
  },
  {
   "cell_type": "markdown",
   "id": "8053beed",
   "metadata": {},
   "source": [
    "There are no duplicate rows or data present in the Dataset as it shows 0 as result."
   ]
  },
  {
   "cell_type": "markdown",
   "id": "25211ed5",
   "metadata": {},
   "source": []
  },
  {
   "cell_type": "code",
   "execution_count": null,
   "id": "1805109d",
   "metadata": {},
   "outputs": [],
   "source": []
  },
  {
   "cell_type": "code",
   "execution_count": null,
   "id": "34a90e69",
   "metadata": {},
   "outputs": [],
   "source": []
  },
  {
   "cell_type": "code",
   "execution_count": 58,
   "id": "8fd95b58",
   "metadata": {},
   "outputs": [],
   "source": [
    "# Importing machine learning libraries later when its needed\n",
    "from sklearn.linear_model import LinearRegression # linear regression model\n",
    "from sklearn.model_selection import train_test_split # splitting data into training and testing sets\n",
    "from sklearn.metrics import mean_squared_error # model evaluation\n",
    "from IPython.display import display, Markdown # display in Jupyter notebooks"
   ]
  }
 ],
 "metadata": {
  "kernelspec": {
   "display_name": "base",
   "language": "python",
   "name": "python3"
  },
  "language_info": {
   "codemirror_mode": {
    "name": "ipython",
    "version": 3
   },
   "file_extension": ".py",
   "mimetype": "text/x-python",
   "name": "python",
   "nbconvert_exporter": "python",
   "pygments_lexer": "ipython3",
   "version": "3.12.7"
  }
 },
 "nbformat": 4,
 "nbformat_minor": 5
}
