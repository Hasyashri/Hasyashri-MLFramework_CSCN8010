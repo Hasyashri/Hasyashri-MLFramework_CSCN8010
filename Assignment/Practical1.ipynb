{
 "cells": [
  {
   "cell_type": "markdown",
   "id": "d6f1e1d8",
   "metadata": {},
   "source": [
    "> # <b>Practical Lab 1 - Univariate Linear Regression <b>\n",
    "\n",
    "#### **Prediction for California Housing Prices Dataset Using Linear regression**\n",
    "\n",
    "> **Student Name**: Hasyashri Bhatt\n",
    "\n",
    ">**Student ID**: 9028501\n",
    "\n",
    ">**Course**: Foundations of Machine Learning Frameworks(CSCN8010) \n",
    "\n",
    ">**GitHub Repository**: https://github.com/Hasyashri/MLFramework_CSCN8010/tree/main/Assignment\n",
    "\n"
   ]
  },
  {
   "cell_type": "markdown",
   "id": "2cf05aba",
   "metadata": {},
   "source": [
    "> ## Introduction\n",
    "\n",
    "In this Lab I will train first Machine Learning Model. There are multiple algorithms to train the model but here I will apply the `univariate linear regression`, which is a simple yet powerful algorithm that models the `relationship` between one `**independent variable**` and a `**dependent variable**` using a `linear equation: Y = mX + c`. <span style=\"font-size:10px\">Refered from :https://github.com/CSCN8010/CSCN8010/tree/main/class_notebooks/linear_regression</span>\n",
    "\n",
    "I will explore how the median house value varies with three different factors. The independent variables considered in this study are:\n",
    "| Model | Independent Variable   | Description                  |\n",
    "|-------|------------------------|------------------------------|\n",
    "| 1     | Median Income          | Average income in the Dataset   |\n",
    "| 2     | Population             | Total population  |\n",
    "| 3     | Number of Households   | Count of households in the Dataset|\n"
   ]
  },
  {
   "cell_type": "markdown",
   "id": "dca670fe",
   "metadata": {},
   "source": [
    "> # Step 1 : Framing the Problem\n",
    "**Objective**\n",
    "The objective of this lab is to develop and compare three univariate linear regression models to predict median house value. Each model uses a different independent variable: median income, population, and number of households. \n",
    "\n",
    "**Goal**\n",
    "Through this analysis, I aim to identify which variable is the strongest predictor of housing prices and gain insights about it.I will train three separate models, each using a different feature as below:\n",
    "\n",
    "1. Mean Squared Error (MSE)\n",
    "2. Mean Absolute Error (MAE)\n",
    "3. R² Score"
   ]
  },
  {
   "cell_type": "markdown",
   "id": "b5468bfa",
   "metadata": {},
   "source": [
    "> # Step 2 : Getting the Data\n",
    "\n",
    "I have downloaded dataset from the below link and loaded in the Pandas.\n",
    "**California Housing Prices Dataset Link**:https://www.kaggle.com/datasets/camnugent/california-housing-prices "
   ]
  }
 ],
 "metadata": {
  "kernelspec": {
   "display_name": "base",
   "language": "python",
   "name": "python3"
  },
  "language_info": {
   "codemirror_mode": {
    "name": "ipython",
    "version": 3
   },
   "file_extension": ".py",
   "mimetype": "text/x-python",
   "name": "python",
   "nbconvert_exporter": "python",
   "pygments_lexer": "ipython3",
   "version": "3.12.7"
  }
 },
 "nbformat": 4,
 "nbformat_minor": 5
}
