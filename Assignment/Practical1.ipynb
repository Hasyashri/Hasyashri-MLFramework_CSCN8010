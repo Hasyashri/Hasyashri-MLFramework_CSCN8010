{
 "cells": [
  {
   "cell_type": "code",
   "execution_count": null,
   "id": "86d7d589",
   "metadata": {},
   "outputs": [],
   "source": []
  },
  {
   "cell_type": "markdown",
   "id": "d6f1e1d8",
   "metadata": {},
   "source": [
    "# <b>Practical Lab 1 - Univariate Linear Regression <b>\n",
    "\n",
    "### **Prediction for California Housing Prices Dataset Using Linear regression**\n",
    "\n",
    "**Student Name**: Hasyashri Bhatt\n",
    "\n",
    "**Student ID**: 9028501\n",
    "\n",
    "**Course**: Foundations of Machine Learning Frameworks(CSCN8010) \n",
    "\n",
    "**GitHub Repository**: https://github.com/Hasyashri/MLFramework_CSCN8010/tree/main/Assignment"
   ]
  }
 ],
 "metadata": {
  "kernelspec": {
   "display_name": "base",
   "language": "python",
   "name": "python3"
  },
  "language_info": {
   "codemirror_mode": {
    "name": "ipython",
    "version": 3
   },
   "file_extension": ".py",
   "mimetype": "text/x-python",
   "name": "python",
   "nbconvert_exporter": "python",
   "pygments_lexer": "ipython3",
   "version": "3.12.7"
  }
 },
 "nbformat": 4,
 "nbformat_minor": 5
}
